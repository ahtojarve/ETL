{
 "cells": [
  {
   "cell_type": "code",
   "execution_count": 16,
   "metadata": {},
   "outputs": [
    {
     "data": {
      "text/plain": [
       "<sqlite3.Cursor at 0x1a78bd54dc0>"
      ]
     },
     "execution_count": 16,
     "metadata": {},
     "output_type": "execute_result"
    }
   ],
   "source": [
    "import sqlite3\n",
    "\n",
    "conn = sqlite3.connect('airquality.db')\n",
    "c = conn.cursor()\n",
    "\n",
    "c.execute('''CREATE TABLE monthly_air_2022 (\n",
    "                date_month DATE NULL,\n",
    "                SO2 NUMERIC NULL,\n",
    "                NO2 NUMERIC NULL,\n",
    "                CO NUMERIC NULL,\n",
    "                O3 NUMERIC NULL,\n",
    "                PM10 NUMERIC NULL,\n",
    "                PM2_5 NUMERIC NULL,\n",
    "                TEMP NUMERIC NULL,\n",
    "                WD10 INT NULL,\n",
    "                WS10 NUMERIC NULL\n",
    "                );''')"
   ]
  },
  {
   "cell_type": "code",
   "execution_count": 17,
   "metadata": {},
   "outputs": [],
   "source": [
    "conn = sqlite3.connect('airquality.db')\n",
    "c = conn.cursor()\n",
    "c.execute('''SELECT substr(_Kuup_ev, 1, 7) as date_month, \n",
    "                    ROUND(AVG(SO2), 2), ROUND(AVG(NO2), 2), ROUND(AVG(CO),2), ROUND(AVG(O3), 2), ROUND(AVG(PM10),2), ROUND(AVG(PM2_5),2), ROUND(AVG(TEMP),2), ROUND(AVG(WD10),2), ROUND(AVG(WS10),2) \n",
    "            FROM air_2022_Tartu\n",
    "            GROUP BY substr(_Kuup_ev, 1, 7);''')\n",
    "with conn:\n",
    "    for row in c.fetchall():\n",
    "         c.execute(\"INSERT INTO monthly_air_2022 VALUES (?, ?, ?, ?, ?, ?, ?, ?, ?, ?)\", row)\n",
    "\n",
    "monthly_average_tabel()"
   ]
  },
  {
   "cell_type": "code",
   "execution_count": 12,
   "metadata": {},
   "outputs": [],
   "source": []
  }
 ],
 "metadata": {
  "kernelspec": {
   "display_name": "Python 3",
   "language": "python",
   "name": "python3"
  },
  "language_info": {
   "codemirror_mode": {
    "name": "ipython",
    "version": 3
   },
   "file_extension": ".py",
   "mimetype": "text/x-python",
   "name": "python",
   "nbconvert_exporter": "python",
   "pygments_lexer": "ipython3",
   "version": "3.11.1"
  },
  "orig_nbformat": 4
 },
 "nbformat": 4,
 "nbformat_minor": 2
}
